{
  "nbformat": 4,
  "nbformat_minor": 0,
  "metadata": {
    "colab": {
      "provenance": [],
      "include_colab_link": true
    },
    "kernelspec": {
      "name": "python3",
      "display_name": "Python 3"
    },
    "language_info": {
      "name": "python"
    }
  },
  "cells": [
    {
      "cell_type": "markdown",
      "metadata": {
        "id": "view-in-github",
        "colab_type": "text"
      },
      "source": [
        "<a href=\"https://colab.research.google.com/github/Guigo1008/computacao-cientifica-aplicada/blob/main/cpp_lib_in_colab.ipynb\" target=\"_parent\"><img src=\"https://colab.research.google.com/assets/colab-badge.svg\" alt=\"Open In Colab\"/></a>"
      ]
    },
    {
      "cell_type": "code",
      "source": [
        "%%bash\n",
        "git clone https://github.com/microsoft/vcpkg.git\n",
        "cd vcpkg\n",
        "./bootstrap-vcpkg.sh\n",
        "./vcpkg install nlohmann-json"
      ],
      "metadata": {
        "id": "P5ECdXmorIjI"
      },
      "execution_count": null,
      "outputs": []
    },
    {
      "cell_type": "code",
      "source": [
        "%%writefile teste.cpp\n",
        "#include <iostream>\n",
        "#include <nlohmann/json.hpp>\n",
        "\n",
        "int main() {\n",
        "    nlohmann::json data = {\n",
        "        {\"name\", \"John\"},\n",
        "        {\"age\", 30},\n",
        "        {\"is_student\", true}\n",
        "    };\n",
        "\n",
        "    std::cout << data.dump(4) << std::endl;\n",
        "    return 0;\n",
        "}"
      ],
      "metadata": {
        "colab": {
          "base_uri": "https://localhost:8080/"
        },
        "id": "tOxzzA3DNHEg",
        "outputId": "aa302519-fa8f-44d6-cdcb-1f583f182d76"
      },
      "execution_count": null,
      "outputs": [
        {
          "output_type": "stream",
          "name": "stdout",
          "text": [
            "Writing teste.cpp\n"
          ]
        }
      ]
    },
    {
      "cell_type": "code",
      "source": [
        "%%script bash\n",
        "g++ -std=c++17 -o teste teste.cpp -I./vcpkg/installed/x64-linux/include -L./vcpkg/installed/x64-linux/lib && ./teste"
      ],
      "metadata": {
        "id": "-Bpp240aqWDx",
        "colab": {
          "base_uri": "https://localhost:8080/"
        },
        "outputId": "44406591-8e67-4509-bfd1-2ffacaba5815"
      },
      "execution_count": null,
      "outputs": [
        {
          "output_type": "stream",
          "name": "stdout",
          "text": [
            "{\n",
            "    \"age\": 30,\n",
            "    \"is_student\": true,\n",
            "    \"name\": \"John\"\n",
            "}\n"
          ]
        }
      ]
    },
    {
      "cell_type": "code",
      "source": [],
      "metadata": {
        "id": "mcwe3GlGQctu"
      },
      "execution_count": null,
      "outputs": []
    }
  ]
}